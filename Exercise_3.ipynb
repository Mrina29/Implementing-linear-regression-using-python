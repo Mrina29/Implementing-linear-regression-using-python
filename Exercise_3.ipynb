{
  "nbformat": 4,
  "nbformat_minor": 0,
  "metadata": {
    "colab": {
      "provenance": []
    },
    "kernelspec": {
      "name": "python3",
      "display_name": "Python 3"
    },
    "language_info": {
      "name": "python"
    }
  },
  "cells": [
    {
      "cell_type": "markdown",
      "source": [
        "1. Predict whether a student gets admitted to graduate school using GRE, GPA, and rank (prestige of undergraduate institution)."
      ],
      "metadata": {
        "id": "-RqLwU9VxyYv"
      }
    },
    {
      "cell_type": "code",
      "execution_count": null,
      "metadata": {
        "colab": {
          "base_uri": "https://localhost:8080/"
        },
        "id": "MNsaKktSwjGe",
        "outputId": "b07bb9f3-4db2-413b-87ff-ecf69afb1768"
      },
      "outputs": [
        {
          "output_type": "stream",
          "name": "stdout",
          "text": [
            "   admit    gre   gpa  rank\n",
            "0    0.0  380.0  3.61   3.0\n",
            "1    1.0  660.0  3.67   3.0\n",
            "2    1.0  800.0  4.00   1.0\n",
            "3    1.0  640.0  3.19   4.0\n",
            "4    0.0  520.0  2.93   4.0\n",
            "Optimization terminated successfully.\n",
            "         Current function value: 0.573147\n",
            "         Iterations 6\n",
            "                           Logit Regression Results                           \n",
            "==============================================================================\n",
            "Dep. Variable:                  admit   No. Observations:                  400\n",
            "Model:                          Logit   Df Residuals:                      394\n",
            "Method:                           MLE   Df Model:                            5\n",
            "Date:                Wed, 23 Jul 2025   Pseudo R-squ.:                 0.08292\n",
            "Time:                        05:31:45   Log-Likelihood:                -229.26\n",
            "converged:                       True   LL-Null:                       -249.99\n",
            "Covariance Type:            nonrobust   LLR p-value:                 7.578e-08\n",
            "==============================================================================\n",
            "                 coef    std err          z      P>|z|      [0.025      0.975]\n",
            "------------------------------------------------------------------------------\n",
            "const         -3.9900      1.140     -3.500      0.000      -6.224      -1.756\n",
            "gre            0.0023      0.001      2.070      0.038       0.000       0.004\n",
            "gpa            0.8040      0.332      2.423      0.015       0.154       1.454\n",
            "rank_2.0      -0.6754      0.316     -2.134      0.033      -1.296      -0.055\n",
            "rank_3.0      -1.3402      0.345     -3.881      0.000      -2.017      -0.663\n",
            "rank_4.0      -1.5515      0.418     -3.713      0.000      -2.370      -0.733\n",
            "==============================================================================\n",
            "Confusion Matrix:\n",
            " [[254  19]\n",
            " [ 97  30]]\n",
            "Accuracy: 0.71\n"
          ]
        }
      ],
      "source": [
        "import pandas as pd\n",
        "import statsmodels.api as sm\n",
        "import seaborn as sns\n",
        "import matplotlib.pyplot as plt\n",
        "\n",
        "# Load dataset\n",
        "url = \"https://stats.idre.ucla.edu/stat/stata/dae/binary.dta\"\n",
        "data = pd.read_stata(url)\n",
        "\n",
        "# View dataset\n",
        "print(data.head())\n",
        "\n",
        "# Define predictors and target\n",
        "X = data[['gre', 'gpa', 'rank']]\n",
        "X = pd.get_dummies(X, columns=['rank'], drop_first=True)  # convert categorical variable\n",
        "\n",
        "# Convert boolean columns to integers\n",
        "for col in X.columns:\n",
        "    if X[col].dtype == bool:\n",
        "        X[col] = X[col].astype(int)\n",
        "\n",
        "y = data['admit']\n",
        "\n",
        "# Add constant for statsmodels\n",
        "X = sm.add_constant(X)\n",
        "\n",
        "# Logistic Regression using statsmodels\n",
        "model = sm.Logit(y, X).fit()\n",
        "print(model.summary())\n",
        "\n",
        "# Predict and evaluate\n",
        "pred_probs = model.predict(X)\n",
        "predictions = (pred_probs >= 0.5).astype(int)\n",
        "\n",
        "from sklearn.metrics import confusion_matrix, accuracy_score\n",
        "print(\"Confusion Matrix:\\n\", confusion_matrix(y, predictions))\n",
        "print(\"Accuracy:\", accuracy_score(y, predictions))"
      ]
    },
    {
      "cell_type": "markdown",
      "source": [
        "Rank is treated as a categorical variable with dummy encoding.\n",
        "\n",
        "Statsmodels provides a detailed regression output including p-values, coefficients, and more."
      ],
      "metadata": {
        "id": "FovDPXMLxBl-"
      }
    },
    {
      "cell_type": "markdown",
      "source": [
        "2.Predict whether a person has a disease based on input variables."
      ],
      "metadata": {
        "id": "91N9JezAx_GN"
      }
    },
    {
      "cell_type": "code",
      "source": [
        "import pandas as pd\n",
        "from sklearn.linear_model import LogisticRegression\n",
        "from sklearn.model_selection import train_test_split\n",
        "from sklearn.metrics import classification_report, accuracy_score\n",
        "\n",
        "# Simulated dataset\n",
        "data = pd.DataFrame({\n",
        "    'age': [25, 45, 35, 50, 23, 33, 42, 36, 29, 60],\n",
        "    'bp': [120, 140, 130, 150, 110, 125, 135, 128, 119, 155],\n",
        "    'cholesterol': [180, 220, 200, 240, 170, 190, 210, 195, 185, 250],\n",
        "    'disease': [0, 1, 0, 1, 0, 0, 1, 0, 0, 1]\n",
        "})\n",
        "\n",
        "X = data[['age', 'bp', 'cholesterol']]\n",
        "y = data['disease']\n",
        "\n",
        "# Train/Test Split\n",
        "X_train, X_test, y_train, y_test = train_test_split(X, y, test_size=0.3, random_state=42)\n",
        "\n",
        "# Train model\n",
        "model = LogisticRegression()\n",
        "model.fit(X_train, y_train)\n",
        "\n",
        "# Predict\n",
        "preds = model.predict(X_test)\n",
        "print(\"Accuracy:\", accuracy_score(y_test, preds))\n",
        "print(\"Classification Report:\\n\", classification_report(y_test, preds))\n"
      ],
      "metadata": {
        "colab": {
          "base_uri": "https://localhost:8080/"
        },
        "id": "-YcBo3ncwx0_",
        "outputId": "f470920f-5a8e-4738-ebbc-9a301e6902bf"
      },
      "execution_count": null,
      "outputs": [
        {
          "output_type": "stream",
          "name": "stdout",
          "text": [
            "Accuracy: 1.0\n",
            "Classification Report:\n",
            "               precision    recall  f1-score   support\n",
            "\n",
            "           0       1.00      1.00      1.00         2\n",
            "           1       1.00      1.00      1.00         1\n",
            "\n",
            "    accuracy                           1.00         3\n",
            "   macro avg       1.00      1.00      1.00         3\n",
            "weighted avg       1.00      1.00      1.00         3\n",
            "\n"
          ]
        }
      ]
    },
    {
      "cell_type": "markdown",
      "source": [
        "Predicts likelihood of having a disease based on health indicators.\n",
        "\n",
        "Uses scikit-learn for training and evaluation."
      ],
      "metadata": {
        "id": "jaR28DJXyMZu"
      }
    },
    {
      "cell_type": "markdown",
      "source": [],
      "metadata": {
        "id": "8-fzCmZeycU1"
      }
    },
    {
      "cell_type": "code",
      "source": [
        "import pandas as pd\n",
        "from sklearn.linear_model import LogisticRegression\n",
        "from sklearn.model_selection import train_test_split\n",
        "from sklearn.metrics import classification_report, accuracy_score\n",
        "\n",
        "# Simulated dataset\n",
        "data = pd.DataFrame({\n",
        "    'age': [25, 45, 35, 50, 23, 33, 42, 36, 29, 60],\n",
        "    'bp': [120, 140, 130, 150, 110, 125, 135, 128, 119, 155],\n",
        "    'cholesterol': [180, 220, 200, 240, 170, 190, 210, 195, 185, 250],\n",
        "    'disease': [0, 1, 0, 1, 0, 0, 1, 0, 0, 1]\n",
        "})\n",
        "\n",
        "X = data[['age', 'bp', 'cholesterol']]\n",
        "y = data['disease']\n",
        "\n",
        "# Train/Test Split\n",
        "X_train, X_test, y_train, y_test = train_test_split(X, y, test_size=0.3, random_state=42)\n",
        "\n",
        "# Train model\n",
        "model = LogisticRegression()\n",
        "model.fit(X_train, y_train)\n",
        "\n",
        "# Predict\n",
        "preds = model.predict(X_test)\n",
        "print(\"Accuracy:\", accuracy_score(y_test, preds))\n",
        "print(\"Classification Report:\\n\", classification_report(y_test, preds))\n"
      ],
      "metadata": {
        "colab": {
          "base_uri": "https://localhost:8080/"
        },
        "id": "bykcteC4xRrm",
        "outputId": "15708289-985e-47de-ed96-6381bd745a84"
      },
      "execution_count": null,
      "outputs": [
        {
          "output_type": "stream",
          "name": "stdout",
          "text": [
            "Accuracy: 1.0\n",
            "Classification Report:\n",
            "               precision    recall  f1-score   support\n",
            "\n",
            "           0       1.00      1.00      1.00         2\n",
            "           1       1.00      1.00      1.00         1\n",
            "\n",
            "    accuracy                           1.00         3\n",
            "   macro avg       1.00      1.00      1.00         3\n",
            "weighted avg       1.00      1.00      1.00         3\n",
            "\n"
          ]
        }
      ]
    },
    {
      "cell_type": "markdown",
      "source": [
        "3. Online Retail Product Prediction"
      ],
      "metadata": {
        "id": "32bA2T_XzYO3"
      }
    },
    {
      "cell_type": "code",
      "source": [
        "import pandas as pd\n",
        "from sklearn.linear_model import LogisticRegression\n",
        "from sklearn.model_selection import train_test_split\n",
        "from sklearn.metrics import accuracy_score, classification_report\n",
        "\n",
        "# Simulated dataset\n",
        "data = pd.DataFrame({\n",
        "    'age': [21, 34, 25, 45, 31, 29, 41, 38, 22, 27],\n",
        "    'income': [30000, 60000, 35000, 75000, 50000, 40000, 68000, 62000, 32000, 45000],\n",
        "    'viewed_product_A': [1, 0, 1, 0, 1, 1, 0, 0, 1, 1],\n",
        "    'purchased_product_A': [1, 0, 1, 0, 1, 1, 0, 0, 0, 1]\n",
        "})\n",
        "\n",
        "X = data[['age', 'income', 'viewed_product_A']]\n",
        "y = data['purchased_product_A']\n",
        "\n",
        "# Train/Test split\n",
        "X_train, X_test, y_train, y_test = train_test_split(X, y, test_size=0.3, random_state=42)\n",
        "\n",
        "# Train model\n",
        "model = LogisticRegression()\n",
        "model.fit(X_train, y_train)\n",
        "\n",
        "# Predict and evaluate\n",
        "preds = model.predict(X_test)\n",
        "print(\"Accuracy:\", accuracy_score(y_test, preds))\n",
        "print(\"Classification Report:\\n\", classification_report(y_test, preds))\n"
      ],
      "metadata": {
        "colab": {
          "base_uri": "https://localhost:8080/"
        },
        "id": "pkKu7Llhxigt",
        "outputId": "58d544d7-f0e3-4ab4-96b2-66f7965a734f"
      },
      "execution_count": null,
      "outputs": [
        {
          "output_type": "stream",
          "name": "stdout",
          "text": [
            "Accuracy: 0.6666666666666666\n",
            "Classification Report:\n",
            "               precision    recall  f1-score   support\n",
            "\n",
            "           0       1.00      0.50      0.67         2\n",
            "           1       0.50      1.00      0.67         1\n",
            "\n",
            "    accuracy                           0.67         3\n",
            "   macro avg       0.75      0.75      0.67         3\n",
            "weighted avg       0.83      0.67      0.67         3\n",
            "\n"
          ]
        },
        {
          "output_type": "stream",
          "name": "stderr",
          "text": [
            "/usr/local/lib/python3.11/dist-packages/sklearn/linear_model/_logistic.py:465: ConvergenceWarning: lbfgs failed to converge (status=1):\n",
            "STOP: TOTAL NO. OF ITERATIONS REACHED LIMIT.\n",
            "\n",
            "Increase the number of iterations (max_iter) or scale the data as shown in:\n",
            "    https://scikit-learn.org/stable/modules/preprocessing.html\n",
            "Please also refer to the documentation for alternative solver options:\n",
            "    https://scikit-learn.org/stable/modules/linear_model.html#logistic-regression\n",
            "  n_iter_i = _check_optimize_result(\n"
          ]
        }
      ]
    },
    {
      "cell_type": "markdown",
      "source": [
        "Features like age, income, and product views predict if a customer buys a product.\n",
        "\n",
        "This uses logistic regression to classify purchase decisions."
      ],
      "metadata": {
        "id": "QQZZM3cvz46C"
      }
    }
  ]
}