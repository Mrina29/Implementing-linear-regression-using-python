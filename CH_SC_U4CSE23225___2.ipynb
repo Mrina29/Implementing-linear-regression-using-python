{
  "nbformat": 4,
  "nbformat_minor": 0,
  "metadata": {
    "colab": {
      "provenance": []
    },
    "kernelspec": {
      "name": "python3",
      "display_name": "Python 3"
    },
    "language_info": {
      "name": "python"
    }
  },
  "cells": [
    {
      "cell_type": "code",
      "execution_count": null,
      "metadata": {
        "colab": {
          "base_uri": "https://localhost:8080/"
        },
        "id": "l0N3yr89Gxwr",
        "outputId": "7c7d9739-6209-4479-d30d-c99b5932e5f7"
      },
      "outputs": [
        {
          "output_type": "stream",
          "name": "stdout",
          "text": [
            "--- Starting Exercise 2: Body Weight Prediction ---\n",
            "\n",
            "Original Dataset:\n",
            "   Weight  Height  Age  Gender\n",
            "0      79    1.80   35    Male\n",
            "1      69    1.68   39    Male\n",
            "2      73    1.82   25    Male\n",
            "3      95    1.70   60    Male\n",
            "4      82    1.87   27    Male\n",
            "5      55    1.55   18  Female\n",
            "6      69    1.50   89  Female\n",
            "7      71    1.78   42  Female\n",
            "8      64    1.67   16  Female\n",
            "9      69    1.64   52  Female\n",
            "\n",
            "Processed Dataset (with Gender converted to numbers):\n",
            "   Weight  Height  Age  Gender_Male\n",
            "0      79    1.80   35         True\n",
            "1      69    1.68   39         True\n",
            "2      73    1.82   25         True\n",
            "3      95    1.70   60         True\n",
            "4      82    1.87   27         True\n",
            "5      55    1.55   18        False\n",
            "6      69    1.50   89        False\n",
            "7      71    1.78   42        False\n",
            "8      64    1.67   16        False\n",
            "9      69    1.64   52        False\n",
            "\n",
            "Model training complete!\n",
            "\n",
            "--- Model Interpretation ---\n",
            "Intercept (base weight): -24.41 kg\n",
            "Coefficients (how each feature impacts weight):\n",
            "  - Height: 47.38\n",
            "  - Age: 0.30\n",
            "  - Gender_Male: 8.92\n",
            "----------------------------\n",
            "\n",
            "Example Prediction: A 45-year-old male who is 1.85m tall is predicted to weigh 85.51 kg.\n"
          ]
        }
      ],
      "source": [
        "\n",
        "# Step 1: Import necessary libraries\n",
        "import pandas as pd\n",
        "from sklearn.linear_model import LinearRegression\n",
        "\n",
        "print(\"--- Starting Exercise 2: Body Weight Prediction ---\")\n",
        "\n",
        "# Step 2: Create the DataFrame from the data in the image\n",
        "data = {\n",
        "    'Weight': [79, 69, 73, 95, 82, 55, 69, 71, 64, 69],\n",
        "    'Height': [1.80, 1.68, 1.82, 1.70, 1.87, 1.55, 1.50, 1.78, 1.67, 1.64],\n",
        "    'Age': [35, 39, 25, 60, 27, 18, 89, 42, 16, 52],\n",
        "    'Gender': ['Male', 'Male', 'Male', 'Male', 'Male', 'Female', 'Female', 'Female', 'Female', 'Female']\n",
        "}\n",
        "df_weight = pd.DataFrame(data)\n",
        "\n",
        "print(\"\\nOriginal Dataset:\")\n",
        "print(df_weight)\n",
        "\n",
        "# Step 3: Preprocess the data - Convert 'Gender' to a numerical format\n",
        "# Linear regression requires all input features to be numbers.\n",
        "# We use one-hot encoding. 'Gender_Male' = 1 will mean Male, 0 will mean Female.\n",
        "df_weight_processed = pd.get_dummies(df_weight, columns=['Gender'], drop_first=True)\n",
        "\n",
        "print(\"\\nProcessed Dataset (with Gender converted to numbers):\")\n",
        "print(df_weight_processed)\n",
        "\n",
        "# Step 4: Define features (X) and target (y)\n",
        "X_weight = df_weight_processed[['Height', 'Age', 'Gender_Male']]\n",
        "y_weight = df_weight_processed['Weight']\n",
        "\n",
        "# Step 5: Create and train the Linear Regression model\n",
        "# Since the dataset is very small, we train on all of it.\n",
        "model_weight = LinearRegression()\n",
        "model_weight.fit(X_weight, y_weight)\n",
        "\n",
        "print(\"\\nModel training complete!\")\n",
        "\n",
        "# Step 6: Interpret the model's results\n",
        "intercept = model_weight.intercept_\n",
        "coefficients = model_weight.coef_\n",
        "\n",
        "print(\"\\n--- Model Interpretation ---\")\n",
        "print(f\"Intercept (base weight): {intercept:.2f} kg\")\n",
        "print(\"Coefficients (how each feature impacts weight):\")\n",
        "for feature, coef in zip(X_weight.columns, coefficients):\n",
        "    print(f\"  - {feature}: {coef:.2f}\")\n",
        "print(\"----------------------------\")\n",
        "\n",
        "# Step 7: Make a prediction on a new person to see the model in action\n",
        "# Let's predict the weight of a 45-year-old male who is 1.85m tall.\n",
        "new_person = pd.DataFrame({\n",
        "    'Height': [1.85],\n",
        "    'Age': [45],\n",
        "    'Gender_Male': [1] # 1 because the person is Male\n",
        "})\n",
        "\n",
        "predicted_weight = model_weight.predict(new_person)\n",
        "print(f\"\\nExample Prediction: A 45-year-old male who is 1.85m tall is predicted to weigh {predicted_weight[0]:.2f} kg.\")"
      ]
    }
  ]
}